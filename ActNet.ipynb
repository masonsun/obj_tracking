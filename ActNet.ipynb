{
 "cells": [
  {
   "cell_type": "code",
   "execution_count": 1,
   "metadata": {},
   "outputs": [
    {
     "name": "stderr",
     "output_type": "stream",
     "text": [
      "Using TensorFlow backend.\n"
     ]
    }
   ],
   "source": [
    "import h5py\n",
    "import numpy as np\n",
    "import tensorflow as tf\n",
    "from keras.models import Model\n",
    "from keras.layers import Input, Concatenate, Dense, Dropout, Flatten, Lambda, Activation\n",
    "from keras.applications import VGG16\n",
    "from keras import backend as K\n",
    "\n",
    "sess = tf.InteractiveSession()\n",
    "np.random.seed(123)"
   ]
  },
  {
   "cell_type": "code",
   "execution_count": 2,
   "metadata": {},
   "outputs": [],
   "source": [
    "# hyperparameters\n",
    "dropout_rate = 0.5\n",
    "num_actions = 11\n",
    "k = 10"
   ]
  },
  {
   "cell_type": "code",
   "execution_count": 3,
   "metadata": {},
   "outputs": [],
   "source": [
    "# input initializations\n",
    "patch = Input(shape=(112, 112, 3), name='patch')\n",
    "action_history = Input(shape=(k * num_actions,), name='action_history')\n",
    "q_values = Input(shape=(k * num_actions,), name='q_values')\n",
    "\n",
    "# TO-DO: \n",
    "# 1. change fc4-fc5 to reccurent module?\n",
    "# 2. use only one vgg network?"
   ]
  },
  {
   "cell_type": "code",
   "execution_count": 4,
   "metadata": {},
   "outputs": [
    {
     "data": {
      "text/plain": [
       "TensorShape([Dimension(110)])"
      ]
     },
     "execution_count": 4,
     "metadata": {},
     "output_type": "execute_result"
    }
   ],
   "source": [
    "def action_transition(new_action, a, num_action=11):\n",
    "    '''\n",
    "    Update the past action vector in FIFO manner with new action\n",
    "    \n",
    "    :param a: past action vector\n",
    "    :param new_action: the new action to include\n",
    "    :param num_action: size of action space\n",
    "    :return: updated past action vector\n",
    "    '''\n",
    "    a = tf.slice(a, [0,], [a.shape[0].value - num_action,])\n",
    "    a = tf.concat([new_action, a], axis=0)\n",
    "    return a\n",
    "\n",
    "# debugging action_transition\n",
    "x = tf.convert_to_tensor(np.arange(110))\n",
    "y = tf.convert_to_tensor(np.arange(110, 110+11))\n",
    "action_transition(x,y).shape"
   ]
  },
  {
   "cell_type": "code",
   "execution_count": 5,
   "metadata": {},
   "outputs": [],
   "source": [
    "def patch_transition(patch, action, alpha=0.05):\n",
    "    '''\n",
    "    Update patch position using selected action\n",
    "    \n",
    "    :param patch: bounding box representation (x,y,w,h)\n",
    "    :param action: one-hot encoded action\n",
    "    :return: updated patch position\n",
    "    '''\n",
    "    a = tf.argmax(action).eval()\n",
    "    # termination\n",
    "    if a == 10:\n",
    "        return patch\n",
    "    # changes\n",
    "    assert patch.dtype == tf.float64\n",
    "    delta = np.zeros(4)\n",
    "    delta_x = alpha * patch[-2].eval()\n",
    "    delta_y = alpha * patch[-1].eval()\n",
    "    # actions\n",
    "    if   a==0: delta[0] -= delta_x # left   \n",
    "    elif a==1: delta[0] += delta_x # right\n",
    "    elif a==2: delta[1] += delta_y # up\n",
    "    elif a==3: delta[1] -= delta_y # down\n",
    "    elif a==4: delta[0] -= 3*delta_x # 3x left\n",
    "    elif a==5: delta[0] += 3*delta_x # 3x right\n",
    "    elif a==6: delta[1] += 3*delta_y # 3x up\n",
    "    elif a==7: delta[1] -= 3*delta_y # 3x down\n",
    "    elif a==8: delta[-2] -= delta_x; delta[-1] -= delta_y # scale down   \n",
    "    else     : delta[-2] += delta_x; delta[-1] += delta_y # scale up\n",
    "\n",
    "    return tf.add(patch, tf.convert_to_tensor(delta, dtype=tf.float64))"
   ]
  },
  {
   "cell_type": "code",
   "execution_count": 6,
   "metadata": {},
   "outputs": [],
   "source": [
    "# critic\n",
    "c = VGG16(weights='imagenet', include_top=False)(patch)\n",
    "c = Flatten()(c)\n",
    "c = Dense(512, activation='relu', name='fc4_c')(c)\n",
    "c = Dropout(dropout_rate)(c)\n",
    "c = Dense(512, activation='relu', name='fc5_c')(c)\n",
    "c = Dropout(dropout_rate)(c)\n",
    "c = Concatenate()([c, action_history])\n",
    "c = Dense(num_actions, activation='linear', name='fc6_c')(c) # single vector of Q-values\n",
    "\n",
    "critic = Model(inputs=[patch, action_history], outputs=[c])"
   ]
  },
  {
   "cell_type": "code",
   "execution_count": 7,
   "metadata": {},
   "outputs": [],
   "source": [
    "# actor\n",
    "a = VGG16(weights='imagenet', include_top=False)(patch)\n",
    "a = Flatten()(a)\n",
    "a = Dense(512, activation='relu', name='fc4_a')(a)\n",
    "a = Dropout(dropout_rate)(a)\n",
    "a = Dense(512, activation='relu', name='fc5_a')(a)\n",
    "a = Dropout(dropout_rate)(a)\n",
    "a = Concatenate()([a, q_values])\n",
    "a = Dense(num_actions, activation='softmax', name='fc6_a')(a)\n",
    "\n",
    "actor = Model(inputs=[patch, q_values], outputs=[a])"
   ]
  }
 ],
 "metadata": {
  "kernelspec": {
   "display_name": "Python 3",
   "language": "python",
   "name": "python3"
  },
  "language_info": {
   "codemirror_mode": {
    "name": "ipython",
    "version": 3
   },
   "file_extension": ".py",
   "mimetype": "text/x-python",
   "name": "python",
   "nbconvert_exporter": "python",
   "pygments_lexer": "ipython3",
   "version": "3.6.2"
  }
 },
 "nbformat": 4,
 "nbformat_minor": 2
}
